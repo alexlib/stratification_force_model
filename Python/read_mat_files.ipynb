{
 "cells": [
  {
   "cell_type": "code",
   "execution_count": null,
   "metadata": {},
   "outputs": [],
   "source": [
    "import numpy as np\n",
    "# from scipy.io import loadmat\n",
    "import matplotlib.pyplot as plt\n",
    "# import flowtracks\n",
    "import h5py\n",
    "# import hdf5storage\n",
    "import os\n",
    "import glob\n",
    "# from flowtracks.trajectory import Trajectory\n",
    "from scipy.io import loadmat"
   ]
  },
  {
   "cell_type": "code",
   "execution_count": null,
   "metadata": {},
   "outputs": [],
   "source": [
    "file_list = sorted(glob.glob('../Data/*.mat'))\n",
    "file_list"
   ]
  },
  {
   "cell_type": "code",
   "execution_count": null,
   "metadata": {},
   "outputs": [],
   "source": [
    "data_name = file_list[0].rsplit('/')[-1].split('_')[0]"
   ]
  },
  {
   "cell_type": "code",
   "execution_count": null,
   "metadata": {},
   "outputs": [],
   "source": [
    "for fname in file_list[3:]:\n",
    "    data_name = fname.rsplit('/')[-1].split('_')[0]\n",
    "    data = loadmat(fname)\n",
    "    data = data[data_name]\n",
    "    fig,ax = plt.subplots(1,2,figsize=(12,12))\n",
    "    n_particles = data['time'].shape[1]\n",
    "    for i in range(n_particles):\n",
    "        ax[0].plot(data['z'][0][i], data['vz'][0][i])\n",
    "        ax[1].plot(data['time'][0][i], data['z'][0][i])\n",
    "        ax[0].set_title(data_name)"
   ]
  },
  {
   "cell_type": "code",
   "execution_count": null,
   "metadata": {},
   "outputs": [],
   "source": []
  }
 ],
 "metadata": {
  "kernelspec": {
   "display_name": "Python [conda env:force] *",
   "language": "python",
   "name": "conda-env-force-py"
  },
  "language_info": {
   "codemirror_mode": {
    "name": "ipython",
    "version": 3
   },
   "file_extension": ".py",
   "mimetype": "text/x-python",
   "name": "python",
   "nbconvert_exporter": "python",
   "pygments_lexer": "ipython3",
   "version": "3.8.5"
  }
 },
 "nbformat": 4,
 "nbformat_minor": 4
}
